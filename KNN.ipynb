{
 "cells": [
  {
   "cell_type": "code",
   "execution_count": null,
   "metadata": {},
   "outputs": [],
   "source": []
  },
  {
   "cell_type": "code",
   "execution_count": 1,
   "metadata": {},
   "outputs": [
    {
     "data": {
      "image/png": "[encoded data removed]",
      "text/plain": [
       "<Figure size 432x288 with 1 Axes>"
      ]
     },
     "metadata": {
      "needs_background": "light"
     },
     "output_type": "display_data"
    },
    {
     "name": "stdout",
     "output_type": "stream",
     "text": [
      "La liste des  3  plus proches voisins de la cible :  [['t1', 3, 27.2], ['t1', 1, 28], ['t2', 3, 26]]\n"
     ]
    }
   ],
   "source": [
    "from math import *\n",
    "# from random import *\n",
    "import matplotlib.pyplot as plt\n",
    "# import numpy as np\n",
    "# from scipy.stats import linregress\n",
    "\n",
    "# Données de type 1\n",
    "liste_x_1=[1,3,8,13]\n",
    "liste_y_1=[28,27.2,37.6,40.7]\n",
    "# Données de type 2\n",
    "liste_x_2=[2,3,10,15]\n",
    "liste_y_2=[30,26,39,35.5]\n",
    "plt.axis([0,15, 0, 50]) # [x1,x2,y1,y2]\n",
    "plt.axis('equal')\n",
    "plt.xlabel('Caractéristique 1')\n",
    "plt.ylabel('Caractérstique 2')\n",
    "plt.title('Représentation des deux types')\n",
    "plt.grid()\n",
    "plt.scatter(liste_x_1,liste_y_1, label='type 1')\n",
    "plt.scatter(liste_x_2,liste_y_2, label='type 2')\n",
    "\n",
    "\n",
    "plt.scatter(7,28.4, label='cible')\n",
    "plt.legend()\n",
    "plt.show()\n",
    "\n",
    "table = [['t1',1,28], ['t1',3,27.2], ['t1',8,37.6], ['t1',13,40.7], ['t2',2,30], ['t2',3,26], ['t2',10,39], ['t2',15,35.5]]\n",
    "cible = [7,28.4]\n",
    "k=3\n",
    "\n",
    "\n",
    "def k_plus_proches_voisins(table, cible, k) :\n",
    "    \"\"\"Revoie la liste des k plus proches voisins de la cible\"\"\"\n",
    "    \n",
    "    \n",
    "    def distance_cible(donnee) :\n",
    "        \"\"\" renvoie la distance entre la donnée et la cible, on choisit la distance de Manhattan\"\"\"\n",
    "        \n",
    "        distance = abs(donnee[1]-cible[0])+abs(donnee[2]-cible[1])\n",
    "        \n",
    "        return distance\n",
    "    \n",
    "    table_triee = sorted(table, key = distance_cible)\n",
    "    \n",
    "    proches_voisins = []\n",
    "    \n",
    "    for i in range(k) : \n",
    "        proches_voisins.append(table_triee[i])\n",
    "        \n",
    "    return proches_voisins\n",
    "\n",
    "print(\"La liste des \",k,\" plus proches voisins de la cible : \",k_plus_proches_voisins(table,cible,k))\n"
   ]
  },
  {
   "cell_type": "code",
   "execution_count": null,
   "metadata": {},
   "outputs": [],
   "source": []
  }
 ],
 "metadata": {
  "kernelspec": {
   "display_name": "Python 3",
   "language": "python",
   "name": "python3"
  },
  "language_info": {
   "codemirror_mode": {
    "name": "ipython",
    "version": 3
   },
   "file_extension": ".py",
   "mimetype": "text/x-python",
   "name": "python",
   "nbconvert_exporter": "python",
   "pygments_lexer": "ipython3",
   "version": "3.8.3"
  }
 },
 "nbformat": 4,
 "nbformat_minor": 4
}
