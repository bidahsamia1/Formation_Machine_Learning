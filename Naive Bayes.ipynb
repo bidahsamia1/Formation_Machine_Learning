{
 "cells": [
  {
   "cell_type": "code",
   "execution_count": 4,
   "metadata": {},
   "outputs": [
    {
     "name": "stdout",
     "output_type": "stream",
     "text": [
      "P(y=0 | [-0.79415228  2.10495117]) = 0.348\n",
      "P(y=1 | [-0.79415228  2.10495117]) = 0.000\n",
      "Truth: y=0\n"
     ]
    }
   ],
   "source": [
    "# example of preparing and making a prediction with a naive bayes model\n",
    "from sklearn.datasets import make_blobs\n",
    "from scipy.stats import norm\n",
    "from numpy import mean\n",
    "from numpy import std\n",
    " \n",
    "# fit a probability distribution to a univariate data sample\n",
    "def fit_distribution(data):\n",
    "\t# estimate parameters\n",
    "\tmu = mean(data)\n",
    "\tsigma = std(data)\n",
    "\t# fit distribution\n",
    "\tdist = norm(mu, sigma)\n",
    "\treturn dist\n",
    " \n",
    "# calculate the independent conditional probability\n",
    "def probability(X, prior, dist1, dist2):\n",
    "\treturn prior * dist1.pdf(X[0]) * dist2.pdf(X[1])\n",
    " \n",
    "# generate 2d classification dataset\n",
    "X, y = make_blobs(n_samples=100, centers=2, n_features=2, random_state=1)\n",
    "# sort data into classes\n",
    "Xy0 = X[y == 0]\n",
    "Xy1 = X[y == 1]\n",
    "# calculate priors\n",
    "priory0 = len(Xy0) / len(X)\n",
    "priory1 = len(Xy1) / len(X)\n",
    "# create PDFs for y==0\n",
    "distX1y0 = fit_distribution(Xy0[:, 0])\n",
    "distX2y0 = fit_distribution(Xy0[:, 1])\n",
    "# create PDFs for y==1\n",
    "distX1y1 = fit_distribution(Xy1[:, 0])\n",
    "distX2y1 = fit_distribution(Xy1[:, 1])\n",
    "# classify one example\n",
    "Xsample, ysample = X[0], y[0]\n",
    "py0 = probability(Xsample, priory0, distX1y0, distX2y0)\n",
    "py1 = probability(Xsample, priory1, distX1y1, distX2y1)\n",
    "print('P(y=0 | %s) = %.3f' % (Xsample, py0*100))\n",
    "print('P(y=1 | %s) = %.3f' % (Xsample, py1*100))\n",
    "print('Truth: y=%d' % ysample)\n"
   ]
  },
  {
   "cell_type": "code",
   "execution_count": 2,
   "metadata": {},
   "outputs": [
    {
     "name": "stdout",
     "output_type": "stream",
     "text": [
      "Predicted Probabilities:  [[1.00000000e+00 5.52387327e-30]]\n",
      "Predicted Class:  [0]\n",
      "Truth: y=0\n"
     ]
    }
   ],
   "source": [
    "# example of gaussian naive bayes\n",
    "from sklearn.datasets import make_blobs\n",
    "from sklearn.naive_bayes import GaussianNB\n",
    "# generate 2d classification dataset\n",
    "X, y = make_blobs(n_samples=100, centers=2, n_features=2, random_state=1)\n",
    "# define the model\n",
    "model = GaussianNB()\n",
    "# fit the model\n",
    "model.fit(X, y)\n",
    "# select a single sample\n",
    "Xsample, ysample = [X[0]], y[0]\n",
    "# make a probabilistic prediction\n",
    "yhat_prob = model.predict_proba(Xsample)\n",
    "print('Predicted Probabilities: ', yhat_prob)\n",
    "# make a classification prediction\n",
    "yhat_class = model.predict(Xsample)\n",
    "print('Predicted Class: ', yhat_class)\n",
    "print('Truth: y=%d' % ysample)"
   ]
  },
  {
   "cell_type": "code",
   "execution_count": null,
   "metadata": {},
   "outputs": [],
   "source": []
  }
 ],
 "metadata": {
  "kernelspec": {
   "display_name": "Python 3",
   "language": "python",
   "name": "python3"
  },
  "language_info": {
   "codemirror_mode": {
    "name": "ipython",
    "version": 3
   },
   "file_extension": ".py",
   "mimetype": "text/x-python",
   "name": "python",
   "nbconvert_exporter": "python",
   "pygments_lexer": "ipython3",
   "version": "3.8.3"
  }
 },
 "nbformat": 4,
 "nbformat_minor": 4
}
