{
 "cells": [
  {
   "cell_type": "code",
   "execution_count": 26,
   "metadata": {},
   "outputs": [
    {
     "name": "stdout",
     "output_type": "stream",
     "text": [
      "======== Results ========\n",
      "Clusters [[11.4, 12.2], [6.0, 6.5], [1.3333333333333333, 1.3333333333333333]]\n",
      "Iterations 5\n",
      "Assignments [2, 2, 2, 2, 2, 2, 1, 1, 0, 0, 0, 0, 0]\n"
     ]
    }
   ],
   "source": [
    "import random\n",
    "import math\n",
    "\n",
    "#Euclidian Distance between two d-dimensional points\n",
    "def eucldist(p0,p1):\n",
    "    dist = 0.0\n",
    "    for i in range(0,len(p0)):\n",
    "        dist += (p0[i] - p1[i])**2\n",
    "    return math.sqrt(dist)\n",
    "\n",
    "\n",
    "    \n",
    "#K-Means Algorithm\n",
    "def kmeans(k,datapoints):\n",
    "\n",
    "    # d - Dimensionality of Datapoints\n",
    "    d = len(datapoints[0]) \n",
    "    \n",
    "    #Limit our iterations\n",
    "    Max_Iterations = 1000\n",
    "    i = 0\n",
    "    \n",
    "    cluster = [0] * len(datapoints)\n",
    "    prev_cluster = [-1] * len(datapoints)\n",
    "    \n",
    "    #Randomly Choose Centers for the Clusters\n",
    "    cluster_centers = []\n",
    "    for i in range(0,k):\n",
    "        new_cluster = []\n",
    "        #for i in range(0,d):\n",
    "        #    new_cluster += [random.randint(0,10)]\n",
    "        cluster_centers += [random.choice(datapoints)]\n",
    "        \n",
    "        \n",
    "    \n",
    "    while (cluster != prev_cluster) or (i > Max_Iterations)  :\n",
    "        \n",
    "        prev_cluster = list(cluster)\n",
    "        i += 1\n",
    "    \n",
    "        #Update Point's Cluster Alligiance\n",
    "        for p in range(0,len(datapoints)):\n",
    "            min_dist = float(\"inf\")\n",
    "            \n",
    "            #Check min_distance against all centers\n",
    "            for c in range(0,len(cluster_centers)):\n",
    "                \n",
    "                dist = eucldist(datapoints[p],cluster_centers[c])\n",
    "                \n",
    "                if (dist < min_dist):\n",
    "                    min_dist = dist  \n",
    "                    cluster[p] = c   # Reassign Point to new Cluster\n",
    "        \n",
    "        \n",
    "        #Update Cluster's Position\n",
    "        for k in range(0,len(cluster_centers)):\n",
    "            new_center = [0] * d\n",
    "            members = 0\n",
    "            for p in range(0,len(datapoints)):\n",
    "                if (cluster[p] == k): #If this point belongs to the cluster\n",
    "                    for j in range(0,d):\n",
    "                        new_center[j] += datapoints[p][j]\n",
    "                    members += 1\n",
    "            \n",
    "            for j in range(0,d):\n",
    "                if members != 0:\n",
    "                    new_center[j] = new_center[j] / float(members) \n",
    "                \n",
    "                #This means that our initial random assignment was poorly chosen\n",
    "                #Change it to a new datapoint to actually force k clusters\n",
    "                else: \n",
    "                    new_center = random.choice(datapoints)\n",
    "        \n",
    "                    \n",
    "            \n",
    "            cluster_centers[k] = new_center\n",
    "    \n",
    "        \n",
    "    print (\"======== Results ========\")\n",
    "    print (\"Clusters\", cluster_centers)\n",
    "    print (\"Iterations\",i)\n",
    "    print (\"Assignments\", cluster)\n",
    "    \n",
    "    \n",
    "#TESTING THE PROGRAM#\n",
    "if __name__ == \"__main__\":\n",
    "    #2D - Datapoints List of n d-dimensional vectors. (For this example I already set up 2D Tuples)\n",
    "    datapoints = [(3,2),(2,2),(1,2),(0,1),(1,0),(1,1),(5,6),(7,7),(9,10),(11,13),(12,12),(12,13),(13,13)]\n",
    "\n",
    "    k = 3 # K - Number of Clusters\n",
    "      \n",
    "    kmeans(k,datapoints)"
   ]
  },
  {
   "cell_type": "code",
   "execution_count": 22,
   "metadata": {},
   "outputs": [
    {
     "name": "stderr",
     "output_type": "stream",
     "text": [
      "C:\\Users\\bidahsamia\\anaconda3\\lib\\site-packages\\sklearn\\utils\\deprecation.py:143: FutureWarning: The sklearn.datasets.samples_generator module is  deprecated in version 0.22 and will be removed in version 0.24. The corresponding classes / functions should instead be imported from sklearn.datasets. Anything that cannot be imported from sklearn.datasets is now part of the private API.\n",
      "  warnings.warn(message, FutureWarning)\n"
     ]
    },
    {
     "data": {
      "text/plain": [
       "<matplotlib.collections.PathCollection at 0x1d8532d10a0>"
      ]
     },
     "execution_count": 22,
     "metadata": {},
     "output_type": "execute_result"
    },
    {
     "data": {
      "image/png": "[encoded data removed]",
      "text/plain": [
       "<Figure size 432x288 with 1 Axes>"
      ]
     },
     "metadata": {},
     "output_type": "display_data"
    }
   ],
   "source": [
    "import numpy as np\n",
    "import matplotlib.pyplot as plt\n",
    "from sklearn.datasets.samples_generator import make_blobs\n",
    "from sklearn.cluster import KMeans \n",
    "# Générer des données:\n",
    "X, y = make_blobs(n_samples=100, centers = 3, cluster_std=0.5, random_state=0) #nb_feat\n",
    "#nb_features = 2 par défaut\n",
    "plt.scatter(X[:,0], X[:, 1])\n",
    "# Entrainer le modele de K-mean Clustering\n",
    "model = KMeans(n_clusters=3)\n",
    "model.fit(X) \n",
    "#Visualiser les Clusters\n",
    "predictions = model.predict(X)\n",
    "plt.scatter(X[:,0], X[:,1], c=predictions) "
   ]
  },
  {
   "cell_type": "code",
   "execution_count": null,
   "metadata": {},
   "outputs": [],
   "source": []
  }
 ],
 "metadata": {
  "kernelspec": {
   "display_name": "Python 3",
   "language": "python",
   "name": "python3"
  },
  "language_info": {
   "codemirror_mode": {
    "name": "ipython",
    "version": 3
   },
   "file_extension": ".py",
   "mimetype": "text/x-python",
   "name": "python",
   "nbconvert_exporter": "python",
   "pygments_lexer": "ipython3",
   "version": "3.8.3"
  }
 },
 "nbformat": 4,
 "nbformat_minor": 4
}
